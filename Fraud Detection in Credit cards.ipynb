{
 "cells": [
  {
   "cell_type": "markdown",
   "metadata": {},
   "source": [
    "# Fraud detection in credit cards"
   ]
  },
  {
   "cell_type": "markdown",
   "metadata": {},
   "source": [
    "#The pattern is in the way that amount is taken as refference with its class fraud or not fraud and trained in ANN Artificial Neural Network to learn which amount is fraud and which amount is not fraud"
   ]
  },
  {
   "cell_type": "code",
   "execution_count": null,
   "metadata": {},
   "outputs": [],
   "source": [
    "#import the modules needed\n",
    "import pandas as pd\n",
    "import numpy as np\n",
    "from sklearn.preprocessing import minmax_scale"
   ]
  },
  {
   "cell_type": "code",
   "execution_count": null,
   "metadata": {},
   "outputs": [],
   "source": [
    "#read the csv file\n",
    "data=pd.read_csv(\"creditcard.csv\",usecols=[\"Amount\",\"Class\"])"
   ]
  },
  {
   "cell_type": "code",
   "execution_count": null,
   "metadata": {},
   "outputs": [],
   "source": [
    "#function for activation funmction\n",
    "def sigmoid(x):  \n",
    "    sig = 1/(1+np.exp(-x)) \n",
    "    return sig"
   ]
  },
  {
   "cell_type": "code",
   "execution_count": null,
   "metadata": {},
   "outputs": [],
   "source": [
    "#function for activation funmction(derivative)\n",
    "def sigmoid_der(x):  \n",
    "    return sigmoid(x)*(1-sigmoid(x))"
   ]
  },
  {
   "cell_type": "code",
   "execution_count": null,
   "metadata": {},
   "outputs": [],
   "source": [
    "#Split into features asnd labels\n",
    "feature=np.array(data[\"Amount\"])#expect class names all are feature \n",
    "\n",
    "labels=np.vstack(data[\"Class\"])#class_names will be labels"
   ]
  },
  {
   "cell_type": "code",
   "execution_count": null,
   "metadata": {},
   "outputs": [],
   "source": [
    "#Normal the data and convert to 2D\n",
    "feature_set = np.vstack(minmax_scale(feature))"
   ]
  },
  {
   "cell_type": "code",
   "execution_count": null,
   "metadata": {},
   "outputs": [],
   "source": [
    "#Set the Hyperparameters \n",
    "np.random.seed(42)#for constant random generation  \n",
    "weights = np.random.rand(len(feature_set[0]),1)  \n",
    "bias = np.random.rand(1)  \n",
    "lr = 0.001 #learning rate"
   ]
  },
  {
   "cell_type": "code",
   "execution_count": null,
   "metadata": {},
   "outputs": [],
   "source": [
    "for epoch in range(15000):  \n",
    "    inputs = feature_set\n",
    "\n",
    "    # feedforward step1\n",
    "    XW = np.dot(feature_set, weights) + bias\n",
    "    \n",
    "    #feedforward step2\n",
    "    z = sigmoid(XW)\n",
    "    print(\"epoch\",epoch)\n",
    "\n",
    "    # backpropagation step 1\n",
    "    error = z - labels #error = output - actual  \n",
    "\n",
    "    print(error.sum())\n",
    "\n",
    "    # backpropagation step 2\n",
    "    dcost_dpred = error\n",
    "    dpred_dz = sigmoid_der(z)\n",
    "\n",
    "    z_delta = dcost_dpred * dpred_dz\n",
    "\n",
    "    inputs = feature_set.T\n",
    "    weights -= lr * np.dot(inputs, z_delta)\n",
    "\n",
    "    for num in z_delta:\n",
    "        bias -= lr * num"
   ]
  },
  {
   "cell_type": "code",
   "execution_count": null,
   "metadata": {},
   "outputs": [],
   "source": [
    "#Set a threshold value\n",
    "threshold = 90\n",
    "\n",
    "#test with the trained weight and bias\n",
    "input_test = 1000 #input we want to check (amount taken from credit card)\n",
    "\n",
    "single_point = np.array([input_test])  \n",
    "\n",
    "result = sigmoid(np.dot(single_point, weights) + bias)  \n",
    "output = int(result*100)\n",
    "\n",
    "if(output >threshold):\n",
    "    print(\"May be a Fraud\")\n",
    "else:\n",
    "    print(\"Not Fraud\")"
   ]
  },
  {
   "cell_type": "code",
   "execution_count": null,
   "metadata": {},
   "outputs": [],
   "source": []
  }
 ],
 "metadata": {
  "kernelspec": {
   "display_name": "Python 3",
   "language": "python",
   "name": "python3"
  },
  "language_info": {
   "codemirror_mode": {
    "name": "ipython",
    "version": 3
   },
   "file_extension": ".py",
   "mimetype": "text/x-python",
   "name": "python",
   "nbconvert_exporter": "python",
   "pygments_lexer": "ipython3",
   "version": "3.7.3"
  }
 },
 "nbformat": 4,
 "nbformat_minor": 2
}
